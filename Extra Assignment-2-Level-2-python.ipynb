{
 "cells": [
  {
   "cell_type": "code",
   "execution_count": null,
   "id": "281a7268-67d7-4c9a-9505-f65344e60b85",
   "metadata": {},
   "outputs": [],
   "source": [
    "#Q-1\n",
    "#print 0 to 20 by using range"
   ]
  },
  {
   "cell_type": "code",
   "execution_count": 2,
   "id": "e4fbc9c4-712e-4efb-bddd-fdbaec6386f8",
   "metadata": {},
   "outputs": [
    {
     "name": "stdout",
     "output_type": "stream",
     "text": [
      "0\n",
      "1\n",
      "2\n",
      "3\n",
      "4\n",
      "5\n",
      "6\n",
      "7\n",
      "8\n",
      "9\n",
      "10\n",
      "11\n",
      "12\n",
      "13\n",
      "14\n",
      "15\n",
      "16\n",
      "17\n",
      "18\n",
      "19\n"
     ]
    }
   ],
   "source": [
    "for num in range(20):  # range(n) generates numbers from 0 to n-1\n",
    "    print(num)\n"
   ]
  },
  {
   "cell_type": "code",
   "execution_count": null,
   "id": "15cf3e85-5789-44b5-9e71-529ea4aaaacb",
   "metadata": {},
   "outputs": [],
   "source": [
    "#Q-2\n",
    "# print range 10 to 20"
   ]
  },
  {
   "cell_type": "code",
   "execution_count": 22,
   "id": "3d1c3132-7a0a-4bc5-b5f0-40aa6d2f9359",
   "metadata": {},
   "outputs": [
    {
     "name": "stdout",
     "output_type": "stream",
     "text": [
      "10 11 12 13 14 15 16 17 18 19 "
     ]
    }
   ],
   "source": [
    "for num in range(10,20):  # range(n) generates numbers from 0 to n-1\n",
    "    print(num, end=' ')"
   ]
  },
  {
   "cell_type": "code",
   "execution_count": 19,
   "id": "fc2467b1-8dc3-4ca1-8672-05d1a2b5ca36",
   "metadata": {},
   "outputs": [],
   "source": [
    "#Q-3\n",
    "# Print number of items in the list by using 'len'"
   ]
  },
  {
   "cell_type": "code",
   "execution_count": 23,
   "id": "5060b881-ebd4-4af4-8bdc-c57af74316d7",
   "metadata": {},
   "outputs": [
    {
     "name": "stdout",
     "output_type": "stream",
     "text": [
      "Number of items in List2:\n",
      "7\n"
     ]
    }
   ],
   "source": [
    "# Defining the list\n",
    "List2 = [10, 20, 14, 55, 43, 87, 76]\n",
    "\n",
    "# Printing the number of items in the list\n",
    "print(\"Number of items in List2:\")\n",
    "print(len(List2))\n"
   ]
  },
  {
   "cell_type": "code",
   "execution_count": 10,
   "id": "36c34c93-53e1-4bcd-97dc-7ec4b315f29b",
   "metadata": {},
   "outputs": [
    {
     "name": "stdout",
     "output_type": "stream",
     "text": [
      "Artificial Intelligence\n",
      "A\n",
      "r\n",
      "t\n",
      "i\n",
      "f\n",
      "i\n",
      "c\n",
      "i\n",
      "a\n",
      "l\n",
      " \n",
      "I\n",
      "n\n",
      "t\n",
      "e\n",
      "l\n",
      "l\n",
      "i\n",
      "g\n",
      "e\n",
      "n\n",
      "c\n",
      "e\n"
     ]
    }
   ],
   "source": [
    "#Q-4\n",
    "title = \"Artificial Intelligence\"\n",
    "print(title)\n",
    "for chr in title:\n",
    "    print(chr)"
   ]
  },
  {
   "cell_type": "code",
   "execution_count": null,
   "id": "85eb2af8-36ab-4ff0-9f24-523fad8b7c94",
   "metadata": {},
   "outputs": [],
   "source": [
    "#Q-5\n",
    "-Your Name-\n",
    "-Your Age-\n",
    "-Your Profession-"
   ]
  },
  {
   "cell_type": "code",
   "execution_count": 13,
   "id": "572d97eb-8e81-4e56-9dbb-5703e269a69f",
   "metadata": {},
   "outputs": [
    {
     "name": "stdout",
     "output_type": "stream",
     "text": [
      "-Your Name-\n",
      "-Your Age-\n",
      "-Your Profession-\n"
     ]
    }
   ],
   "source": [
    "name = \"Your Name\"\n",
    "age = \"Your Age\"\n",
    "profession = \"Your Profession\"\n",
    "\n",
    "print(f\"-{name}-\")\n",
    "print(f\"-{age}-\")\n",
    "print(f\"-{profession}-\")\n"
   ]
  },
  {
   "cell_type": "code",
   "execution_count": null,
   "id": "460a06ce-8c28-4394-9844-160b2ba9fb4f",
   "metadata": {},
   "outputs": [],
   "source": [
    "#Q-6\n",
    "# Print yhis mixered datatype using Tuples"
   ]
  },
  {
   "cell_type": "code",
   "execution_count": 14,
   "id": "dd650120-495b-4601-b33c-fb296ada51e6",
   "metadata": {},
   "outputs": [
    {
     "name": "stdout",
     "output_type": "stream",
     "text": [
      "(1, 'welcome', 2, 'hope')\n"
     ]
    }
   ],
   "source": [
    "# Creating a tuple with mixed data types\n",
    "mixed_tuple = (1, \"welcome\", 2, \"hope\")\n",
    "\n",
    "# Printing the tuple\n",
    "print(mixed_tuple)\n"
   ]
  },
  {
   "cell_type": "code",
   "execution_count": null,
   "id": "a0ac5401-20bc-450c-932f-3962ea36d0c1",
   "metadata": {},
   "outputs": [],
   "source": [
    "#Q-7\n",
    "#Tuple1 = (0, 1, 2, 3)"
   ]
  },
  {
   "cell_type": "code",
   "execution_count": 15,
   "id": "822dbcd7-fd71-4e14-bf66-a7d74dbe2864",
   "metadata": {},
   "outputs": [
    {
     "name": "stdout",
     "output_type": "stream",
     "text": [
      "((0, 1, 2, 3), ('python', 'HOPE'))\n"
     ]
    }
   ],
   "source": [
    "Tuple1 = (0, 1, 2, 3)\n",
    "Tuple2 = ('python', 'HOPE')\n",
    "Result = (Tuple1, Tuple2)\n",
    "\n",
    "print(Result)\n"
   ]
  },
  {
   "cell_type": "code",
   "execution_count": null,
   "id": "300d7729-7029-45f7-9341-eb1d28343842",
   "metadata": {},
   "outputs": [],
   "source": [
    "#Q-8\n",
    "# print Odd Numbers in the list\n",
    "(20,10,16,19,25,1,276,188)\n",
    "19 is odd\n",
    "25 is odd\n",
    "1 is odd"
   ]
  },
  {
   "cell_type": "code",
   "execution_count": 16,
   "id": "3cb9d7b3-09c1-4009-8390-daabd64638eb",
   "metadata": {},
   "outputs": [
    {
     "name": "stdout",
     "output_type": "stream",
     "text": [
      "19 is odd\n",
      "25 is odd\n",
      "1 is odd\n"
     ]
    }
   ],
   "source": [
    "numbers = [20, 10, 16, 19, 25, 1, 276, 188]\n",
    "\n",
    "# Iterate through the list and check if each number is odd\n",
    "for num in numbers:\n",
    "    if num % 2 != 0:  # Check if the number is odd\n",
    "        print(f\"{num} is odd\")\n"
   ]
  },
  {
   "cell_type": "code",
   "execution_count": null,
   "id": "ebc284bc-8cc4-4f89-8d32-b50f1598eb61",
   "metadata": {},
   "outputs": [],
   "source": [
    "#Q-9\n",
    "# print Even numbers in the list\n",
    "20 is even\n",
    "10 is even\n",
    "16 is even\n",
    "276 is even\n",
    "188 is even"
   ]
  },
  {
   "cell_type": "code",
   "execution_count": 17,
   "id": "e80730d5-3eae-41fa-9dcf-8ef610d54a4b",
   "metadata": {},
   "outputs": [
    {
     "name": "stdout",
     "output_type": "stream",
     "text": [
      "20 is even\n",
      "10 is even\n",
      "16 is even\n",
      "276 is even\n",
      "188 is even\n"
     ]
    }
   ],
   "source": [
    "numbers = [20, 10, 16, 19, 25, 1, 276, 188]\n",
    "\n",
    "for num in numbers:\n",
    "    if num % 2 == 0:\n",
    "        print(f\"{num} is even\")\n"
   ]
  },
  {
   "cell_type": "code",
   "execution_count": null,
   "id": "e58cc928-5772-479a-aea1-c8435f86ff91",
   "metadata": {},
   "outputs": [],
   "source": []
  }
 ],
 "metadata": {
  "kernelspec": {
   "display_name": "Python [conda env:base] *",
   "language": "python",
   "name": "conda-base-py"
  },
  "language_info": {
   "codemirror_mode": {
    "name": "ipython",
    "version": 3
   },
   "file_extension": ".py",
   "mimetype": "text/x-python",
   "name": "python",
   "nbconvert_exporter": "python",
   "pygments_lexer": "ipython3",
   "version": "3.12.7"
  }
 },
 "nbformat": 4,
 "nbformat_minor": 5
}

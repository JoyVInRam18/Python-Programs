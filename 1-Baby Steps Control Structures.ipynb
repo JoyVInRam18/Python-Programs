{
 "cells": [
  {
   "cell_type": "code",
   "execution_count": null,
   "id": "43c2afbb-c6ce-42e3-a31a-f409034299ef",
   "metadata": {},
   "outputs": [],
   "source": [
    "#Q-1\n",
    "# Welcome to Assignment-1"
   ]
  },
  {
   "cell_type": "code",
   "execution_count": 1,
   "id": "81350612-da60-4b3a-80db-1d414695f9d7",
   "metadata": {},
   "outputs": [
    {
     "name": "stdout",
     "output_type": "stream",
     "text": [
      "Welcome to Assignment-1\n"
     ]
    }
   ],
   "source": [
    "print(\"Welcome to Assignment-1\")"
   ]
  },
  {
   "cell_type": "code",
   "execution_count": 48,
   "id": "73a359dd-c904-480e-8212-b80797389b94",
   "metadata": {},
   "outputs": [],
   "source": [
    "#Q-2\n",
    "Num1 = 10\n",
    "Num2 = 30\n",
    "Num3 = 40"
   ]
  },
  {
   "cell_type": "code",
   "execution_count": 49,
   "id": "2b6d70b9-afd8-4f53-b2a8-aa44af6dc32d",
   "metadata": {},
   "outputs": [
    {
     "name": "stdout",
     "output_type": "stream",
     "text": [
      "Num1 = 10\n",
      "Num2 = 30\n",
      "Num3 = 40\n"
     ]
    }
   ],
   "source": [
    "print(\"Num1 =\", Num1)\n",
    "print(\"Num2 =\", Num2)\n",
    "print(\"Num3 =\", Num3)"
   ]
  },
  {
   "cell_type": "code",
   "execution_count": null,
   "id": "b9d20d09-30a2-4842-96f4-972fd302ca1b",
   "metadata": {},
   "outputs": [],
   "source": [
    "#Q-3\n",
    "#Body Mass Index"
   ]
  },
  {
   "cell_type": "code",
   "execution_count": 45,
   "id": "8d323c26-ac52-4588-99b5-f4328ab20be6",
   "metadata": {},
   "outputs": [
    {
     "name": "stdin",
     "output_type": "stream",
     "text": [
      "Enter the BMI Index:  45\n"
     ]
    },
    {
     "name": "stdout",
     "output_type": "stream",
     "text": [
      "Very Overweight\n"
     ]
    }
   ],
   "source": [
    "# Function to categorize BMI\n",
    "def categorize_bmi(bmi):\n",
    "    if bmi < 18.5:\n",
    "        return \"Underweight\"\n",
    "    elif 18.5 <= bmi < 24.9:\n",
    "        return \"Normal weight\"\n",
    "    elif 25 <= bmi < 29.9:\n",
    "        return \"Overweight\"\n",
    "    else:\n",
    "        return \"Very Overweight\"\n",
    "\n",
    "# Get user input\n",
    "bmi = float(input(\"Enter the BMI Index: \"))\n",
    "\n",
    "# Determine the category\n",
    "category = categorize_bmi(bmi)\n",
    "\n",
    "# Display the result\n",
    "print(f\"{category}\")\n"
   ]
  },
  {
   "cell_type": "code",
   "execution_count": null,
   "id": "903ee30a-7a83-4a19-878b-622b504540ec",
   "metadata": {},
   "outputs": [],
   "source": [
    "A scientist is working on permutations and needs to calculate the factorial of numbers frequently.\n",
    " Write logic to find the factorial of a given number using recursion."
   ]
  }
 ],
 "metadata": {
  "kernelspec": {
   "display_name": "Python [conda env:base] *",
   "language": "python",
   "name": "conda-base-py"
  },
  "language_info": {
   "codemirror_mode": {
    "name": "ipython",
    "version": 3
   },
   "file_extension": ".py",
   "mimetype": "text/x-python",
   "name": "python",
   "nbconvert_exporter": "python",
   "pygments_lexer": "ipython3",
   "version": "3.12.7"
  }
 },
 "nbformat": 4,
 "nbformat_minor": 5
}

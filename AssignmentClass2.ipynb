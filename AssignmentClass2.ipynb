{
 "cells": [
  {
   "cell_type": "code",
   "execution_count": 33,
   "id": "14663741-a022-4207-adfb-fad397c98bb7",
   "metadata": {},
   "outputs": [],
   "source": [
    "class AllinOne():\n",
    "    def Subfields():\n",
    "        print(\"Sub-fields in AI are:\")\n",
    "        print(\"Machine Learning\")\n",
    "        print(\"Neural Networks\")\n",
    "        print(\"Vision\")\n",
    "        print(\"Robotics\")\n",
    "        print(\"Speech Processing\")\n",
    "        print(\"Natural Language Processing\")\n",
    "        "
   ]
  },
  {
   "cell_type": "code",
   "execution_count": 34,
   "id": "321f1eb8-d5b5-4c6a-bead-6506d3245e6d",
   "metadata": {},
   "outputs": [
    {
     "name": "stdout",
     "output_type": "stream",
     "text": [
      "Sub-fields in AI are:\n",
      "Machine Learning\n",
      "Neural Networks\n",
      "Vision\n",
      "Robotics\n",
      "Speech Processing\n",
      "Natural Language Processing\n"
     ]
    }
   ],
   "source": [
    "AllinOne.Subfields()\n"
   ]
  },
  {
   "cell_type": "code",
   "execution_count": 37,
   "id": "3d2b4381-9343-426e-b9b2-f2abc6d9f88e",
   "metadata": {},
   "outputs": [],
   "source": [
    "class AllinOne():\n",
    "    def OddEven():\n",
    "        numb = int(input(\"Enter a number:\"))\n",
    "        if((numb % 2) == 0):\n",
    "            print(numb,\"is Even number\")\n",
    "        else:\n",
    "            print(numb,\"is Odd number\")"
   ]
  },
  {
   "cell_type": "code",
   "execution_count": 40,
   "id": "01e7aa16-2c18-4f91-b0c4-ee768dec7a9d",
   "metadata": {},
   "outputs": [
    {
     "name": "stdin",
     "output_type": "stream",
     "text": [
      "Enter a number: 7\n"
     ]
    },
    {
     "name": "stdout",
     "output_type": "stream",
     "text": [
      "7 is Odd number\n"
     ]
    }
   ],
   "source": [
    "AllinOne.OddEven()"
   ]
  },
  {
   "cell_type": "code",
   "execution_count": 49,
   "id": "808f2956-a189-46e5-a627-424c394b167b",
   "metadata": {},
   "outputs": [],
   "source": [
    "# Create a function that tells eligibility of marriage for male and female according to their age limit like 21 for male and 18 for female\n",
    "class AllinOne():\n",
    "    def Eligible():\n",
    "        gender = input(\"Enter your Gender:\")\n",
    "        age = int(input(\"Enter your Age:\"))\n",
    "        if(gender == 'Male'):\n",
    "            if(age >=21 ):\n",
    "                print(\"ELIGIBLE\")\n",
    "            else:\n",
    "                print(\"NOT ELIGIBLE\")\n",
    "        elif(gender == 'Female'):\n",
    "            if(age >=18 ):\n",
    "                print(\"ELIGIBLE\")\n",
    "            else:\n",
    "                print(\"NOT ELIGIBLE\")"
   ]
  },
  {
   "cell_type": "code",
   "execution_count": 50,
   "id": "9a3dc1af-8b67-44b7-8439-55962c6a6534",
   "metadata": {},
   "outputs": [
    {
     "name": "stdin",
     "output_type": "stream",
     "text": [
      "Enter your Gender: Male\n",
      "Enter your Age: 23\n"
     ]
    },
    {
     "name": "stdout",
     "output_type": "stream",
     "text": [
      "ELIGIBLE\n"
     ]
    }
   ],
   "source": [
    "AllinOne.Eligible()"
   ]
  },
  {
   "cell_type": "code",
   "execution_count": 45,
   "id": "4e2bb13c-5eb7-4a73-9428-4df9ebc21d3d",
   "metadata": {},
   "outputs": [],
   "source": [
    "class AllinOne():\n",
    "    def percentage():\n",
    "        Subject1= int(input(\"Enter the mark of Subject1\"))\n",
    "        Subject2= int(input(\"Enter the mark of Subject1\"))\n",
    "        Subject3= int(input(\"Enter the mark of Subject1\"))\n",
    "        Subject4= int(input(\"Enter the mark of Subject1\"))\n",
    "        Subject5= int(input(\"Enter the mark of Subject1\"))\n",
    "        Total = Subject1+Subject2+Subject3+Subject4+Subject5\n",
    "        Percentage = (Total/500)*100\n",
    "        print(\"Subject1=\",Subject1)\n",
    "        print(\"Subject2=\",Subject2)\n",
    "        print(\"Subject3=\",Subject3)\n",
    "        print(\"Subject4=\",Subject4)\n",
    "        print(\"Subject5=\",Subject5)\n",
    "        print(\"Total : \",Total)\n",
    "        print(\"Percentage : \",Percentage)      "
   ]
  },
  {
   "cell_type": "code",
   "execution_count": 46,
   "id": "742bdb28-59fb-4aeb-9a9b-fc220dd19679",
   "metadata": {},
   "outputs": [
    {
     "name": "stdin",
     "output_type": "stream",
     "text": [
      "Enter the mark of Subject1 98\n",
      "Enter the mark of Subject1 87\n",
      "Enter the mark of Subject1 95\n",
      "Enter the mark of Subject1 95\n",
      "Enter the mark of Subject1 93\n"
     ]
    },
    {
     "name": "stdout",
     "output_type": "stream",
     "text": [
      "Subject1= 98\n",
      "Subject2= 87\n",
      "Subject3= 95\n",
      "Subject4= 95\n",
      "Subject5= 93\n",
      "Total :  468\n",
      "Percentage :  93.60000000000001\n"
     ]
    }
   ],
   "source": [
    "AllinOne.percentage()"
   ]
  },
  {
   "cell_type": "code",
   "execution_count": 47,
   "id": "a92f50df-97f0-4989-a8d5-d690dd6be04f",
   "metadata": {},
   "outputs": [],
   "source": [
    "#print area and perimeter of triangle using class and functions\n",
    "class AllinOne():\n",
    "    def triangle():\n",
    "        Height = int(input(\"Enter the Height:\"))\n",
    "        Breadth = int(input(\"Enter the Breadth:\"))\n",
    "        Area_triangle = (Height*Breadth)/2\n",
    "        print(\"Area formula: (Height*Breadth)/2\")\n",
    "        print(\"Area of Triangle:\",Area_triangle)\n",
    "        Height1 = int(input(\"Enter the Height1:\"))\n",
    "        Height2 = int(input(\"Enter the Height2:\"))\n",
    "        Breadth = int(input(\"Enter the Breadth:\"))\n",
    "        Perimeter_triangle = Height1+Height2+Breadth\n",
    "        print(\"Perimeter formula: Height1+Height2+Breadth\")\n",
    "        print(\"Perimeter of Triangle:\",Perimeter_triangle)"
   ]
  },
  {
   "cell_type": "code",
   "execution_count": 48,
   "id": "43701054-4a74-4ec6-a524-860a2941ee3c",
   "metadata": {},
   "outputs": [
    {
     "name": "stdin",
     "output_type": "stream",
     "text": [
      "Enter the Height: 22\n",
      "Enter the Breadth: 34\n"
     ]
    },
    {
     "name": "stdout",
     "output_type": "stream",
     "text": [
      "Area formula: (Height*Breadth)/2\n",
      "Area of Triangle: 374.0\n"
     ]
    },
    {
     "name": "stdin",
     "output_type": "stream",
     "text": [
      "Enter the Height1: 2\n",
      "Enter the Height2: 4\n",
      "Enter the Breadth: 4\n"
     ]
    },
    {
     "name": "stdout",
     "output_type": "stream",
     "text": [
      "Perimeter formula: Height1+Height2+Breadth\n",
      "Perimeter of Triangle: 10\n"
     ]
    }
   ],
   "source": [
    "AllinOne.triangle()"
   ]
  },
  {
   "cell_type": "code",
   "execution_count": null,
   "id": "2b7755d0-edfd-4047-8037-797ad8bf3cb8",
   "metadata": {},
   "outputs": [],
   "source": []
  }
 ],
 "metadata": {
  "kernelspec": {
   "display_name": "Python [conda env:base] *",
   "language": "python",
   "name": "conda-base-py"
  },
  "language_info": {
   "codemirror_mode": {
    "name": "ipython",
    "version": 3
   },
   "file_extension": ".py",
   "mimetype": "text/x-python",
   "name": "python",
   "nbconvert_exporter": "python",
   "pygments_lexer": "ipython3",
   "version": "3.12.7"
  }
 },
 "nbformat": 4,
 "nbformat_minor": 5
}

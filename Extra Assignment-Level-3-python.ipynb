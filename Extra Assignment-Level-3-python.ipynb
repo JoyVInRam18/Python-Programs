{
 "cells": [
  {
   "cell_type": "code",
   "execution_count": null,
   "id": "b9375353-7c9b-4c18-b928-7e1a58e274f4",
   "metadata": {},
   "outputs": [],
   "source": [
    "#Q-1\n",
    "# print 'CORRECT' if i == 10\n",
    "value: 10\n",
    "CORRECT"
   ]
  },
  {
   "cell_type": "code",
   "execution_count": 4,
   "id": "a716494b-26d1-49ce-b349-59b6bbd59d71",
   "metadata": {},
   "outputs": [
    {
     "name": "stdout",
     "output_type": "stream",
     "text": [
      "value: 10\n",
      "CORRECT\n"
     ]
    }
   ],
   "source": [
    "i = 10\n",
    "print(f\"value: {i}\")\n",
    "print(\"CORRECT\")\n"
   ]
  },
  {
   "cell_type": "code",
   "execution_count": null,
   "id": "fcb1755f-9427-4e49-a60d-68e86db8d384",
   "metadata": {},
   "outputs": [],
   "source": [
    "#Q-2\n",
    "# Check the password, using if and else\n",
    "Enter the password: HOPE@123\n",
    "Your password is correct"
   ]
  },
  {
   "cell_type": "code",
   "execution_count": 5,
   "id": "88bcbb11-ad95-41b7-a586-18924663f931",
   "metadata": {},
   "outputs": [
    {
     "name": "stdin",
     "output_type": "stream",
     "text": [
      "Enter the password:  HOPE@123\n"
     ]
    },
    {
     "name": "stdout",
     "output_type": "stream",
     "text": [
      "Your password is correct\n"
     ]
    }
   ],
   "source": [
    "# Define the correct password\n",
    "correct_password = \"HOPE@123\"\n",
    "\n",
    "# Prompt the user to enter the password\n",
    "entered_password = input(\"Enter the password: \")\n",
    "\n",
    "# Check if the entered password matches the correct one\n",
    "if entered_password == correct_password:\n",
    "    print(\"Your password is correct\")\n",
    "else:\n",
    "    print(\"Your password is incorrect\")\n"
   ]
  },
  {
   "cell_type": "code",
   "execution_count": null,
   "id": "03165ea1-6b3e-4d31-9384-a3a7c2e07bdb",
   "metadata": {},
   "outputs": [],
   "source": [
    "#Q-3\n",
    "# Catagory the people by their age like children, adult, citizen, senior citizen...\n",
    "age: 20\n",
    "Adult"
   ]
  },
  {
   "cell_type": "code",
   "execution_count": 20,
   "id": "98e582f2-2e3f-41bb-833b-9936b41b8073",
   "metadata": {},
   "outputs": [
    {
     "name": "stdin",
     "output_type": "stream",
     "text": [
      "age: 20\n"
     ]
    },
    {
     "name": "stdout",
     "output_type": "stream",
     "text": [
      "Adult\n"
     ]
    }
   ],
   "source": [
    "age=int(input(\"age:\"))\n",
    "if(age<18):\n",
    "    print(\"Children\")\n",
    "elif(age<35):\n",
    "    print(\"Adult\")\n",
    "elif(age<59):\n",
    "    print(\"Citizen\")\n",
    "else:\n",
    "    print(\"Senior Citizen\")\n"
   ]
  },
  {
   "cell_type": "code",
   "execution_count": null,
   "id": "784163c2-5f40-4b17-acff-43c17dea925c",
   "metadata": {},
   "outputs": [],
   "source": [
    "#Q-4\n",
    "# Find whether given number is positive or negative\n",
    "Enter any number:1\n",
    "No is positive"
   ]
  },
  {
   "cell_type": "code",
   "execution_count": 22,
   "id": "6aa89fd1-dcd8-4fc9-8441-9707d27f86c3",
   "metadata": {},
   "outputs": [
    {
     "name": "stdin",
     "output_type": "stream",
     "text": [
      "Enter any number:  -10\n"
     ]
    },
    {
     "name": "stdout",
     "output_type": "stream",
     "text": [
      "No is negative\n"
     ]
    }
   ],
   "source": [
    "# Get user input\n",
    "num = float(input(\"Enter any number: \"))\n",
    "\n",
    "# Check if number is positive, negative, or zero\n",
    "if num > 0:\n",
    "    print(\"No is positive\")\n",
    "elif num < 0:\n",
    "    print(\"No is negative\")\n",
    "else:\n",
    "    print(\"No is zero\")\n"
   ]
  },
  {
   "cell_type": "code",
   "execution_count": null,
   "id": "b4a4c983-bef3-4fa4-8097-71fd3648e695",
   "metadata": {},
   "outputs": [],
   "source": [
    "#Q-5\n",
    "# Check whether the given number is divisible by 5\n",
    "Enter a number to check:22\n",
    "No is not divisible by 5"
   ]
  },
  {
   "cell_type": "code",
   "execution_count": 27,
   "id": "3f3c90e9-1863-4346-918d-1cb0d5a70aa0",
   "metadata": {},
   "outputs": [
    {
     "name": "stdin",
     "output_type": "stream",
     "text": [
      "Enter a number to check:  21\n"
     ]
    },
    {
     "name": "stdout",
     "output_type": "stream",
     "text": [
      "No is not divisible by 5\n"
     ]
    }
   ],
   "source": [
    "## Taking input from the user\n",
    "num = int(input(\"Enter a number to check: \"))\n",
    "\n",
    "# Checking divisibility\n",
    "if num % 5 == 0:\n",
    "    print(\"No is divisible by 5\")\n",
    "else:\n",
    "    print(\"No is not divisible by 5\")\n"
   ]
  },
  {
   "cell_type": "code",
   "execution_count": null,
   "id": "131c0b7d-595e-4acd-a2fe-a99be155898b",
   "metadata": {},
   "outputs": [],
   "source": []
  }
 ],
 "metadata": {
  "kernelspec": {
   "display_name": "Python [conda env:base] *",
   "language": "python",
   "name": "conda-base-py"
  },
  "language_info": {
   "codemirror_mode": {
    "name": "ipython",
    "version": 3
   },
   "file_extension": ".py",
   "mimetype": "text/x-python",
   "name": "python",
   "nbconvert_exporter": "python",
   "pygments_lexer": "ipython3",
   "version": "3.12.7"
  }
 },
 "nbformat": 4,
 "nbformat_minor": 5
}

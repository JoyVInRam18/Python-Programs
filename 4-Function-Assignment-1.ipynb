{
 "cells": [
  {
   "cell_type": "code",
   "execution_count": null,
   "id": "60bc06eb-27e5-4314-a401-950028410f55",
   "metadata": {},
   "outputs": [],
   "source": [
    "# Create a class and function, and list out the items in the list\n",
    "#SubfieldsInAI.Subfields()\n",
    "Sub-fields in AI are:\n",
    "Machine Learning\n",
    "Neural Networks\n",
    "Vision\n",
    "Robotics\n",
    "Speech Processing\n",
    "Natural Language Processing"
   ]
  },
  {
   "cell_type": "code",
   "execution_count": 27,
   "id": "9c64602a-9634-40a5-91d0-5996fa52a2d8",
   "metadata": {},
   "outputs": [],
   "source": [
    "class SubfieldsInAI():\n",
    "    def Subfields():\n",
    "        print(\"Sub-fields in AI are:\")\n",
    "        print(\"Machine Learning\")\n",
    "        print(\"Neural Networks\")\n",
    "        print(\"Vision\")\n",
    "        print(\"Robotics\")\n",
    "        print(\"Speech Processing\")\n",
    "        print(\"Natural Language Processing\")"
   ]
  },
  {
   "cell_type": "code",
   "execution_count": 28,
   "id": "9d3a0c18-0c30-4030-aad8-f046652d16e6",
   "metadata": {},
   "outputs": [
    {
     "name": "stdout",
     "output_type": "stream",
     "text": [
      "Sub-fields in AI are:\n",
      "Machine Learning\n",
      "Neural Networks\n",
      "Vision\n",
      "Robotics\n",
      "Speech Processing\n",
      "Natural Language Processing\n"
     ]
    }
   ],
   "source": [
    "SubfieldsInAI.Subfields()"
   ]
  },
  {
   "cell_type": "code",
   "execution_count": null,
   "id": "bb32bde2-920c-45c8-b0c2-ea5aa04cf65c",
   "metadata": {},
   "outputs": [],
   "source": [
    "# Create a function that checks whether the given number is Odd or Even\n",
    "OddEven.OddEven()\n",
    "Enter a number: 52452\n",
    "52452 is Even number"
   ]
  },
  {
   "cell_type": "code",
   "execution_count": 26,
   "id": "2fe35ad4-0ee9-4ace-b8ef-8048d5592cfb",
   "metadata": {},
   "outputs": [
    {
     "name": "stdin",
     "output_type": "stream",
     "text": [
      "Enter a number:  4\n"
     ]
    },
    {
     "name": "stdout",
     "output_type": "stream",
     "text": [
      "4 is an even number.\n"
     ]
    }
   ],
   "source": [
    "#### def oddeven():\n",
    "    # Prompt the user to enter a number\n",
    "    number = int(input(\"Enter a number: \"))\n",
    "    \n",
    "    # Check if the number is even or odd\n",
    "    if number % 2 == 0:\n",
    "        print(f\"{number} is an even number.\")\n",
    "    else:\n",
    "        print(f\"{number} is an odd number.\")\n",
    "\n",
    "# Call the function\n",
    "oddeven()\n"
   ]
  },
  {
   "cell_type": "code",
   "execution_count": null,
   "id": "0017aa95-b14b-44e4-a4e5-f5d96cdf6109",
   "metadata": {},
   "outputs": [],
   "source": [
    "# Create a function that tells elegibility of marriage for male and female according to their \n",
    "age limit like 21 for male and 18 for female\n",
    "ElegiblityForMarriage.Elegible()\n",
    "Your Gender:Male\n",
    "Your Age:20\n",
    "NOT ELIGIBLE                                 \n"
   ]
  },
  {
   "cell_type": "code",
   "execution_count": 6,
   "id": "a88f05e0-d574-4087-b38d-a6eac6e65a49",
   "metadata": {},
   "outputs": [
    {
     "name": "stdin",
     "output_type": "stream",
     "text": [
      "Your Gender:  male\n",
      "Your Age:  20\n"
     ]
    },
    {
     "name": "stdout",
     "output_type": "stream",
     "text": [
      "NOT ELIGIBLE\n"
     ]
    }
   ],
   "source": [
    "class EligibilityForMarriage:\n",
    "    @staticmethod\n",
    "    def Eligible():\n",
    "        gender = input(\"Your Gender: \").strip().lower()\n",
    "        age = int(input(\"Your Age: \"))\n",
    "\n",
    "        if (gender == \"male\" and age >= 21) or (gender == \"female\" and age >= 18):\n",
    "            print(\"ELIGIBLE\")\n",
    "        else:\n",
    "            print(\"NOT ELIGIBLE\")\n",
    "\n",
    "# Example usage\n",
    "EligibilityForMarriage.Eligible()\n"
   ]
  },
  {
   "cell_type": "code",
   "execution_count": null,
   "id": "3554c666-bedf-422b-a2dd-ee497c69c6c0",
   "metadata": {},
   "outputs": [],
   "source": [
    "# calculate the percentage of your 10th mark\n",
    "#FindPercent.percentage()\n",
    "Subject1= 98\n",
    "Subject2= 87\n",
    "Subject3= 95\n",
    "Subject4= 95\n",
    "Subject5= 93\n",
    "Total : 468\n",
    "Percentage : 93.60000000000001"
   ]
  },
  {
   "cell_type": "code",
   "execution_count": 24,
   "id": "eb1bd7cf-c193-40dd-83bb-301af35cc536",
   "metadata": {},
   "outputs": [
    {
     "name": "stdout",
     "output_type": "stream",
     "text": [
      "Subject1 = 98\n",
      "Subject2 = 87\n",
      "Subject3 = 95\n",
      "Subject4 = 95\n",
      "Subject5 = 93\n",
      "Total : 468\n",
      "Percentage : 93.60000000000001\n"
     ]
    }
   ],
   "source": [
    "class FindPercent:\n",
    "    def __init__(self, marks):\n",
    "        self.marks = marks\n",
    "    \n",
    "    def percentage(self):\n",
    "        total_marks = sum(self.marks.values())\n",
    "        percentage = (total_marks / (len(self.marks) * 100)) * 100\n",
    "        return total_marks, percentage\n",
    "\n",
    "# Marks for 5 subjects\n",
    "marks = {\n",
    "    \"Subject1\": 98,\n",
    "    \"Subject2\": 87,\n",
    "    \"Subject3\": 95,\n",
    "    \"Subject4\": 95,\n",
    "    \"Subject5\": 93\n",
    "}\n",
    "\n",
    "# Create an instance of FindPercent\n",
    "fp = FindPercent(marks)\n",
    "total, percent = fp.percentage()\n",
    "\n",
    "# Display the result\n",
    "for subject, mark in marks.items():\n",
    "    print(f\"{subject} = {mark}\")\n",
    "print(f\"Total : {total}\")\n",
    "print(f\"Percentage : {percent}\")\n"
   ]
  },
  {
   "cell_type": "code",
   "execution_count": null,
   "id": "b06fec4a-6f27-4bf6-8fe0-d52adc52905a",
   "metadata": {},
   "outputs": [],
   "source": [
    "#print area and perimeter of triangle using class and functions\n",
    "#triangle.triangle()\n",
    "Height:32\n",
    "Breadth:34\n",
    "Area formula: (Height*Breadth)/2\n",
    "Area of Triangle: 544.0\n",
    "Height1:2\n",
    "Height2:4\n",
    "Breadth:4\n",
    "Perimeter formula: Height1+Height2+Breadth\n",
    "Perimeter of Triangle: 10"
   ]
  },
  {
   "cell_type": "code",
   "execution_count": 23,
   "id": "4b4ee12d-55ad-4607-9614-7fd5fb1fcb91",
   "metadata": {},
   "outputs": [
    {
     "name": "stdout",
     "output_type": "stream",
     "text": [
      "Height: 32\n",
      "Breadth: 34\n",
      "Area Formula: (Height * Breadth) / 2\n",
      "Area of Triangle: 544.0\n",
      "Height1: 2\n",
      "Height2: 4\n",
      "Breadth: 4\n",
      "Perimeter Formula: Height1 + Height2 + Breadth\n",
      "Perimeter of Triangle: 10\n"
     ]
    }
   ],
   "source": [
    "class Triangle:\n",
    "    def __init__(self, height=None, breadth=None, height1=None, height2=None):\n",
    "        self.height = height\n",
    "        self.breadth = breadth\n",
    "        self.height1 = height1\n",
    "        self.height2 = height2\n",
    "\n",
    "    def calculate_area(self):\n",
    "        if self.height is not None and self.breadth is not None:\n",
    "            area = (self.height * self.breadth) / 2\n",
    "            return area\n",
    "        else:\n",
    "            return \"Height and breadth are required to calculate area.\"\n",
    "\n",
    "    def calculate_perimeter(self):\n",
    "        if self.height1 is not None and self.height2 is not None and self.breadth is not None:\n",
    "            perimeter = self.height1 + self.height2 + self.breadth\n",
    "            return perimeter\n",
    "        else:\n",
    "            return \"Height1, Height2, and Breadth are required to calculate perimeter.\"\n",
    "\n",
    "\n",
    "# Input and Output\n",
    "# Area Calculation\n",
    "triangle1 = Triangle(height=32, breadth=34)\n",
    "print(f\"Height: {triangle1.height}\")\n",
    "print(f\"Breadth: {triangle1.breadth}\")\n",
    "print(\"Area Formula: (Height * Breadth) / 2\")\n",
    "print(f\"Area of Triangle: {triangle1.calculate_area()}\")\n",
    "\n",
    "# Perimeter Calculation\n",
    "triangle2 = Triangle(height1=2, height2=4, breadth=4)\n",
    "print(f\"Height1: {triangle2.height1}\")\n",
    "print(f\"Height2: {triangle2.height2}\")\n",
    "print(f\"Breadth: {triangle2.breadth}\")\n",
    "print(\"Perimeter Formula: Height1 + Height2 + Breadth\")\n",
    "print(f\"Perimeter of Triangle: {triangle2.calculate_perimeter()}\")\n"
   ]
  },
  {
   "cell_type": "code",
   "execution_count": 1,
   "id": "787afe11-8d3b-4581-9dcc-bc070745f633",
   "metadata": {},
   "outputs": [
    {
     "name": "stdout",
     "output_type": "stream",
     "text": [
      "World\n"
     ]
    }
   ],
   "source": [
    "if 0:\n",
    "    print(\"Hello\")\n",
    "else:\n",
    "    print(\"World\")"
   ]
  },
  {
   "cell_type": "code",
   "execution_count": 3,
   "id": "fc2d6bc3-54b9-4b00-851f-f7958aee77c4",
   "metadata": {},
   "outputs": [],
   "source": [
    "def test(): \n",
    "    return 5 \n",
    "    print(test() + 10)\n",
    "    "
   ]
  },
  {
   "cell_type": "code",
   "execution_count": 4,
   "id": "602f91cd-a3d0-49d7-aa36-d1c722f06e34",
   "metadata": {},
   "outputs": [
    {
     "name": "stdout",
     "output_type": "stream",
     "text": [
      "pythonprogramming\n"
     ]
    }
   ],
   "source": [
    "print(\"python\"+\"programming\")"
   ]
  },
  {
   "cell_type": "code",
   "execution_count": 5,
   "id": "47e9eb16-c02b-46f4-bfda-c0af5cbbbe27",
   "metadata": {},
   "outputs": [
    {
     "data": {
      "text/plain": [
       "[0, 1, 2]"
      ]
     },
     "execution_count": 5,
     "metadata": {},
     "output_type": "execute_result"
    }
   ],
   "source": [
    "list(range(3))"
   ]
  },
  {
   "cell_type": "code",
   "execution_count": 6,
   "id": "ce532d3a-17c5-4091-94d4-cae27bf68917",
   "metadata": {},
   "outputs": [
    {
     "data": {
      "text/plain": [
       "4"
      ]
     },
     "execution_count": 6,
     "metadata": {},
     "output_type": "execute_result"
    }
   ],
   "source": [
    "len([1,2,3,4])"
   ]
  },
  {
   "cell_type": "code",
   "execution_count": 7,
   "id": "afcce264-7734-4cdc-b5c4-940bace0d037",
   "metadata": {},
   "outputs": [
    {
     "name": "stdout",
     "output_type": "stream",
     "text": [
      "abcabcabc\n"
     ]
    }
   ],
   "source": [
    "print(3 * \"abc\")\n",
    "\n",
    "\n",
    "\n"
   ]
  },
  {
   "cell_type": "code",
   "execution_count": 8,
   "id": "956eca24-2464-48ca-b7b1-575ff61f6390",
   "metadata": {},
   "outputs": [
    {
     "name": "stdin",
     "output_type": "stream",
     "text": [
      "Enter a number:  5\n"
     ]
    },
    {
     "name": "stdout",
     "output_type": "stream",
     "text": [
      "You entered the number: 5\n"
     ]
    }
   ],
   "source": [
    "number = int(input(\"Enter a number: \"))\n",
    "print(\"You entered the number:\", number)"
   ]
  },
  {
   "cell_type": "code",
   "execution_count": 9,
   "id": "ba9cdbe5-35f4-48c5-b5d9-4a5397838b77",
   "metadata": {},
   "outputs": [
    {
     "name": "stdin",
     "output_type": "stream",
     "text": [
      "Enter your name joy\n"
     ]
    },
    {
     "data": {
      "text/plain": [
       "'joy'"
      ]
     },
     "execution_count": 9,
     "metadata": {},
     "output_type": "execute_result"
    }
   ],
   "source": [
    "input(\"Enter your name\")"
   ]
  },
  {
   "cell_type": "code",
   "execution_count": 10,
   "id": "c7720179-76b0-429a-ae49-f1c21e072ba2",
   "metadata": {},
   "outputs": [
    {
     "data": {
      "text/plain": [
       "False"
      ]
     },
     "execution_count": 10,
     "metadata": {},
     "output_type": "execute_result"
    }
   ],
   "source": [
    "bool([])\n"
   ]
  },
  {
   "cell_type": "code",
   "execution_count": 13,
   "id": "b9473071-1c48-42c0-a24f-1741d51f7a09",
   "metadata": {},
   "outputs": [
    {
     "ename": "SyntaxError",
     "evalue": "expected ':' (3964378094.py, line 1)",
     "output_type": "error",
     "traceback": [
      "\u001b[1;36m  Cell \u001b[1;32mIn[13], line 1\u001b[1;36m\u001b[0m\n\u001b[1;33m    for i in range(5)\u001b[0m\n\u001b[1;37m                     ^\u001b[0m\n\u001b[1;31mSyntaxError\u001b[0m\u001b[1;31m:\u001b[0m expected ':'\n"
     ]
    }
   ],
   "source": [
    "for i in range(5)\n",
    "    print(i)"
   ]
  },
  {
   "cell_type": "code",
   "execution_count": null,
   "id": "7789ce71-eb3a-45cc-ad3e-b7d64e2469af",
   "metadata": {},
   "outputs": [],
   "source": []
  }
 ],
 "metadata": {
  "kernelspec": {
   "display_name": "Python [conda env:base] *",
   "language": "python",
   "name": "conda-base-py"
  },
  "language_info": {
   "codemirror_mode": {
    "name": "ipython",
    "version": 3
   },
   "file_extension": ".py",
   "mimetype": "text/x-python",
   "name": "python",
   "nbconvert_exporter": "python",
   "pygments_lexer": "ipython3",
   "version": "3.12.7"
  }
 },
 "nbformat": 4,
 "nbformat_minor": 5
}

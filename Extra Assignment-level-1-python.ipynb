{
 "cells": [
  {
   "cell_type": "code",
   "execution_count": null,
   "id": "74c8a739-d704-42b8-9981-c0f19ba7673a",
   "metadata": {},
   "outputs": [],
   "source": [
    "#Q-1\n",
    "#print statement"
   ]
  },
  {
   "cell_type": "code",
   "execution_count": 1,
   "id": "affef8a4-00b5-40cc-ad4c-0115937f9b4a",
   "metadata": {},
   "outputs": [
    {
     "name": "stdout",
     "output_type": "stream",
     "text": [
      "HOPE AI\n"
     ]
    }
   ],
   "source": [
    "print(\"HOPE AI\")"
   ]
  },
  {
   "cell_type": "code",
   "execution_count": null,
   "id": "2853aa50-b0d6-42c7-9654-07197c2d4e0e",
   "metadata": {},
   "outputs": [],
   "source": [
    "#Q-2\n",
    "#Buy Input\n",
    "#Enter your Institute Name: HOPE AI"
   ]
  },
  {
   "cell_type": "code",
   "execution_count": 3,
   "id": "05bd8ccc-cfe8-4fe8-9286-2d83806c0f63",
   "metadata": {},
   "outputs": [
    {
     "name": "stdin",
     "output_type": "stream",
     "text": [
      "Enter your Institute Name:  HOPE AI\n"
     ]
    },
    {
     "name": "stdout",
     "output_type": "stream",
     "text": [
      "HOPE AI\n"
     ]
    }
   ],
   "source": [
    "# Prompting the user to enter the institute name\n",
    "institute_name = input(\"Enter your Institute Name: \")\n",
    "\n",
    "# Displaying the entered institute name\n",
    "print(institute_name)\n"
   ]
  },
  {
   "cell_type": "code",
   "execution_count": null,
   "id": "ce90d6e5-751f-4839-9bcd-79f3cc159af5",
   "metadata": {},
   "outputs": [],
   "source": [
    "#Q-3\n",
    "Enter your name: Raj\n",
    "Enter your age: 15\n",
    "Enter your school name: Guru school\n",
    "Enter your drgree: B.E CS"
   ]
  },
  {
   "cell_type": "code",
   "execution_count": 10,
   "id": "3297d8df-1930-4dca-bbff-50dc71413ad8",
   "metadata": {},
   "outputs": [
    {
     "name": "stdin",
     "output_type": "stream",
     "text": [
      "name:  Raj\n",
      "age:  15\n",
      "schoolname:  Guru school\n",
      "degree:  B.E CS\n"
     ]
    },
    {
     "name": "stdout",
     "output_type": "stream",
     "text": [
      "Enter your Name: Raj\n",
      "Enter your Age: 15\n",
      "Enter your School Name: Guru school\n",
      "Enter your Degree: B.E CS\n"
     ]
    }
   ],
   "source": [
    "# Taking user input\n",
    "name = input(\"name: \")\n",
    "age = input(\"age: \")\n",
    "school = input(\"schoolname: \")\n",
    "degree = input(\"degree: \")\n",
    "\n",
    "# Displaying the entered details\n",
    "#print(\"\\nUser Details:\")\n",
    "print(f\"Enter your Name: {name}\")\n",
    "print(f\"Enter your Age: {age}\")\n",
    "print(f\"Enter your School Name: {school}\")\n",
    "print(f\"Enter your Degree: {degree}\")"
   ]
  },
  {
   "cell_type": "code",
   "execution_count": null,
   "id": "7d48590b-7721-4940-b606-327712e1e7cf",
   "metadata": {},
   "outputs": [],
   "source": [
    "#Q-4\n",
    "a= 43\n",
    "b= 34\n",
    "add = 77\n"
   ]
  },
  {
   "cell_type": "code",
   "execution_count": 17,
   "id": "9295ff5c-8175-472d-8e95-efc072846be4",
   "metadata": {},
   "outputs": [
    {
     "name": "stdin",
     "output_type": "stream",
     "text": [
      "a= 43\n",
      "b= 34\n"
     ]
    },
    {
     "name": "stdout",
     "output_type": "stream",
     "text": [
      "add= 77\n"
     ]
    }
   ],
   "source": [
    "# Defining the variables\n",
    "a=int(input(\"a=\"))\n",
    "b=int(input(\"b=\"))\n",
    "# Performing the addition\n",
    "add = a + b\n",
    "\n",
    "# Displaying the result\n",
    "print(\"add=\", add)\n"
   ]
  },
  {
   "cell_type": "code",
   "execution_count": null,
   "id": "a0acaa3a-0ef3-4677-ac19-46854dfeaa7a",
   "metadata": {},
   "outputs": [],
   "source": [
    "#Q-5\n",
    "a= 43\n",
    "b= 34\n",
    "Sub = 9"
   ]
  },
  {
   "cell_type": "code",
   "execution_count": 16,
   "id": "875089c6-1346-4985-b4ff-0dae17f9c21c",
   "metadata": {},
   "outputs": [
    {
     "name": "stdin",
     "output_type": "stream",
     "text": [
      "a= 43\n",
      "b= 34\n"
     ]
    },
    {
     "name": "stdout",
     "output_type": "stream",
     "text": [
      "sub= 9\n"
     ]
    }
   ],
   "source": [
    "\n",
    "a=int(input(\"a=\"))\n",
    "b=int(input(\"b=\"))\n",
    "\n",
    "# Performing the addition\n",
    "sub = a - b\n",
    "\n",
    "# Displaying the result\n",
    "print(\"sub=\", sub)"
   ]
  },
  {
   "cell_type": "code",
   "execution_count": null,
   "id": "459d57a6-9235-4e82-87c8-4fac48b1997e",
   "metadata": {},
   "outputs": [],
   "source": [
    "#Q-6\n",
    "a= 63\n",
    "b= 97\n",
    "Mul = 6111"
   ]
  },
  {
   "cell_type": "code",
   "execution_count": 15,
   "id": "d26edaf3-0035-4ee8-92f4-553c9a988b72",
   "metadata": {},
   "outputs": [
    {
     "name": "stdin",
     "output_type": "stream",
     "text": [
      "a= 63\n",
      "b= 97\n"
     ]
    },
    {
     "name": "stdout",
     "output_type": "stream",
     "text": [
      "mul= 6111\n"
     ]
    }
   ],
   "source": [
    "#a = 63\n",
    "#b = 97\n",
    "a=int(input(\"a=\"))\n",
    "b=int(input(\"b=\"))\n",
    "# Performing the addition\n",
    "mul = a * b\n",
    "\n",
    "# Displaying the result\n",
    "print(\"mul=\", mul)"
   ]
  },
  {
   "cell_type": "code",
   "execution_count": null,
   "id": "6671c37b-0e5d-47f7-b291-67f909dc5ce3",
   "metadata": {},
   "outputs": [],
   "source": [
    "#Q-7\n",
    "a= 76\n",
    "b= 31\n",
    "Float Div = 2.4516129032258065"
   ]
  },
  {
   "cell_type": "code",
   "execution_count": 23,
   "id": "1e77ad5f-8411-4601-92f7-b0933c395ecf",
   "metadata": {},
   "outputs": [
    {
     "name": "stdin",
     "output_type": "stream",
     "text": [
      "a= 76\n",
      "b= 31\n"
     ]
    },
    {
     "name": "stdout",
     "output_type": "stream",
     "text": [
      "Float Div: 2.4516129032258065\n"
     ]
    }
   ],
   "source": [
    "#a = 76\n",
    "#b = 31\n",
    "a=int(input(\"a=\"))\n",
    "b=int(input(\"b=\"))\n",
    "float_div = a / b\n",
    "print(\"Float Div:\", float_div)"
   ]
  },
  {
   "cell_type": "code",
   "execution_count": null,
   "id": "69b8aec5-3a96-4182-be3c-2680339bafaa",
   "metadata": {},
   "outputs": [],
   "source": [
    "#Q-8\n",
    "a= 76\n",
    "b= 31\n",
    "Floor Div = 2"
   ]
  },
  {
   "cell_type": "code",
   "execution_count": 46,
   "id": "1eec62f4-697e-47ff-be50-66ccbcce9071",
   "metadata": {},
   "outputs": [
    {
     "name": "stdin",
     "output_type": "stream",
     "text": [
      "a= 76\n",
      "b= 31\n"
     ]
    },
    {
     "name": "stdout",
     "output_type": "stream",
     "text": [
      "Floor Div =  2\n"
     ]
    }
   ],
   "source": [
    "\n",
    "a=int(input(\"a=\"))\n",
    "b=int(input(\"b=\"))\n",
    "\n",
    "floor_division = a // b\n",
    "\n",
    "print(\"Floor Div = \", floor_division)\n",
    "\n"
   ]
  },
  {
   "cell_type": "code",
   "execution_count": null,
   "id": "6335a0f4-3e71-4aa3-a3b0-f4c0fef44426",
   "metadata": {},
   "outputs": [],
   "source": [
    "#Q-9\n",
    "a= 76\n",
    "b= 31\n",
    "Modulo = 14"
   ]
  },
  {
   "cell_type": "code",
   "execution_count": 49,
   "id": "750e2c75-f2f3-4780-bb2b-a70f5062a8a2",
   "metadata": {},
   "outputs": [
    {
     "name": "stdin",
     "output_type": "stream",
     "text": [
      "a= 76\n",
      "b= 31\n"
     ]
    },
    {
     "name": "stdout",
     "output_type": "stream",
     "text": [
      "modulo =  14\n"
     ]
    }
   ],
   "source": [
    "#a = 76\n",
    "#b = 31\n",
    "#modulo = 14\n",
    "\n",
    "a=int(input(\"a=\"))\n",
    "b=int(input(\"b=\"))\n",
    "\n",
    "modulo = a % b\n",
    "\n",
    "print(\"modulo = \", modulo)\n"
   ]
  },
  {
   "cell_type": "code",
   "execution_count": null,
   "id": "b236ca0c-b760-45cb-bf2e-78c8bb4d1920",
   "metadata": {},
   "outputs": [],
   "source": [
    "#Q-10\n",
    "#Modulo\n",
    "a= 4\n",
    "b= 4\n",
    "Power = 256"
   ]
  },
  {
   "cell_type": "code",
   "execution_count": 52,
   "id": "a15ee2ad-08c7-4c96-8f60-222f1f78ad0f",
   "metadata": {},
   "outputs": [
    {
     "name": "stdin",
     "output_type": "stream",
     "text": [
      "a= 4\n",
      "b= 4\n"
     ]
    },
    {
     "name": "stdout",
     "output_type": "stream",
     "text": [
      "power =  256\n"
     ]
    }
   ],
   "source": [
    "#a = 4\n",
    "#b = 4\n",
    "a=int(input(\"a=\"))\n",
    "b=int(input(\"b=\"))\n",
    "power = a ** b  # 4 raised to the power of 4\n",
    "print(\"power = \", power)  # Output: 256\n"
   ]
  },
  {
   "cell_type": "code",
   "execution_count": null,
   "id": "ee1a0747-b1bb-42ee-a37a-eef3d0b43e43",
   "metadata": {},
   "outputs": [],
   "source": []
  }
 ],
 "metadata": {
  "kernelspec": {
   "display_name": "Python [conda env:base] *",
   "language": "python",
   "name": "conda-base-py"
  },
  "language_info": {
   "codemirror_mode": {
    "name": "ipython",
    "version": 3
   },
   "file_extension": ".py",
   "mimetype": "text/x-python",
   "name": "python",
   "nbconvert_exporter": "python",
   "pygments_lexer": "ipython3",
   "version": "3.12.7"
  }
 },
 "nbformat": 4,
 "nbformat_minor": 5
}
